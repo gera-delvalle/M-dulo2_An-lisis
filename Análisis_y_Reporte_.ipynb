{
  "nbformat": 4,
  "nbformat_minor": 0,
  "metadata": {
    "colab": {
      "provenance": []
    },
    "kernelspec": {
      "name": "python3",
      "display_name": "Python 3"
    },
    "language_info": {
      "name": "python"
    }
  },
  "cells": [
    {
      "cell_type": "markdown",
      "source": [
        "# Bosque Aleatorio"
      ],
      "metadata": {
        "id": "31wkcWQg3WxZ"
      }
    },
    {
      "cell_type": "code",
      "source": [
        "import pandas as pd\n",
        "import numpy as np\n",
        "import matplotlib.pyplot as plt"
      ],
      "metadata": {
        "id": "E8gmo5AK6n4S"
      },
      "execution_count": 1,
      "outputs": []
    },
    {
      "cell_type": "code",
      "source": [
        "from google.colab import drive\n",
        "drive.mount('/content/drive')"
      ],
      "metadata": {
        "colab": {
          "base_uri": "https://localhost:8080/"
        },
        "id": "_R-yoewP6rD3",
        "outputId": "72629b67-565d-45ba-e065-a0d7a60f8458"
      },
      "execution_count": 2,
      "outputs": [
        {
          "output_type": "stream",
          "name": "stdout",
          "text": [
            "Mounted at /content/drive\n"
          ]
        }
      ]
    },
    {
      "cell_type": "markdown",
      "source": [
        "## Clasificacion"
      ],
      "metadata": {
        "id": "cX7F4uuS4qs3"
      }
    },
    {
      "cell_type": "code",
      "execution_count": 3,
      "metadata": {
        "id": "vXVO7be228eI"
      },
      "outputs": [],
      "source": [
        "df = pd.read_csv('/content/drive/MyDrive/Inteligencia Artificial Avanzada/car_data.csv')"
      ]
    },
    {
      "cell_type": "code",
      "source": [
        "df.head()"
      ],
      "metadata": {
        "colab": {
          "base_uri": "https://localhost:8080/",
          "height": 206
        },
        "id": "mAUfXbtk66SR",
        "outputId": "2d245dfd-9cff-49ce-ea72-a1395920a315"
      },
      "execution_count": 4,
      "outputs": [
        {
          "output_type": "execute_result",
          "data": {
            "text/plain": [
              "   User ID Gender  Age  AnnualSalary  Purchased\n",
              "0      385   Male   35         20000          0\n",
              "1      681   Male   40         43500          0\n",
              "2      353   Male   49         74000          0\n",
              "3      895   Male   40        107500          1\n",
              "4      661   Male   25         79000          0"
            ],
            "text/html": [
              "\n",
              "  <div id=\"df-472343ef-5221-4913-8f97-a21f9b4308b8\">\n",
              "    <div class=\"colab-df-container\">\n",
              "      <div>\n",
              "<style scoped>\n",
              "    .dataframe tbody tr th:only-of-type {\n",
              "        vertical-align: middle;\n",
              "    }\n",
              "\n",
              "    .dataframe tbody tr th {\n",
              "        vertical-align: top;\n",
              "    }\n",
              "\n",
              "    .dataframe thead th {\n",
              "        text-align: right;\n",
              "    }\n",
              "</style>\n",
              "<table border=\"1\" class=\"dataframe\">\n",
              "  <thead>\n",
              "    <tr style=\"text-align: right;\">\n",
              "      <th></th>\n",
              "      <th>User ID</th>\n",
              "      <th>Gender</th>\n",
              "      <th>Age</th>\n",
              "      <th>AnnualSalary</th>\n",
              "      <th>Purchased</th>\n",
              "    </tr>\n",
              "  </thead>\n",
              "  <tbody>\n",
              "    <tr>\n",
              "      <th>0</th>\n",
              "      <td>385</td>\n",
              "      <td>Male</td>\n",
              "      <td>35</td>\n",
              "      <td>20000</td>\n",
              "      <td>0</td>\n",
              "    </tr>\n",
              "    <tr>\n",
              "      <th>1</th>\n",
              "      <td>681</td>\n",
              "      <td>Male</td>\n",
              "      <td>40</td>\n",
              "      <td>43500</td>\n",
              "      <td>0</td>\n",
              "    </tr>\n",
              "    <tr>\n",
              "      <th>2</th>\n",
              "      <td>353</td>\n",
              "      <td>Male</td>\n",
              "      <td>49</td>\n",
              "      <td>74000</td>\n",
              "      <td>0</td>\n",
              "    </tr>\n",
              "    <tr>\n",
              "      <th>3</th>\n",
              "      <td>895</td>\n",
              "      <td>Male</td>\n",
              "      <td>40</td>\n",
              "      <td>107500</td>\n",
              "      <td>1</td>\n",
              "    </tr>\n",
              "    <tr>\n",
              "      <th>4</th>\n",
              "      <td>661</td>\n",
              "      <td>Male</td>\n",
              "      <td>25</td>\n",
              "      <td>79000</td>\n",
              "      <td>0</td>\n",
              "    </tr>\n",
              "  </tbody>\n",
              "</table>\n",
              "</div>\n",
              "      <button class=\"colab-df-convert\" onclick=\"convertToInteractive('df-472343ef-5221-4913-8f97-a21f9b4308b8')\"\n",
              "              title=\"Convert this dataframe to an interactive table.\"\n",
              "              style=\"display:none;\">\n",
              "        \n",
              "  <svg xmlns=\"http://www.w3.org/2000/svg\" height=\"24px\"viewBox=\"0 0 24 24\"\n",
              "       width=\"24px\">\n",
              "    <path d=\"M0 0h24v24H0V0z\" fill=\"none\"/>\n",
              "    <path d=\"M18.56 5.44l.94 2.06.94-2.06 2.06-.94-2.06-.94-.94-2.06-.94 2.06-2.06.94zm-11 1L8.5 8.5l.94-2.06 2.06-.94-2.06-.94L8.5 2.5l-.94 2.06-2.06.94zm10 10l.94 2.06.94-2.06 2.06-.94-2.06-.94-.94-2.06-.94 2.06-2.06.94z\"/><path d=\"M17.41 7.96l-1.37-1.37c-.4-.4-.92-.59-1.43-.59-.52 0-1.04.2-1.43.59L10.3 9.45l-7.72 7.72c-.78.78-.78 2.05 0 2.83L4 21.41c.39.39.9.59 1.41.59.51 0 1.02-.2 1.41-.59l7.78-7.78 2.81-2.81c.8-.78.8-2.07 0-2.86zM5.41 20L4 18.59l7.72-7.72 1.47 1.35L5.41 20z\"/>\n",
              "  </svg>\n",
              "      </button>\n",
              "      \n",
              "  <style>\n",
              "    .colab-df-container {\n",
              "      display:flex;\n",
              "      flex-wrap:wrap;\n",
              "      gap: 12px;\n",
              "    }\n",
              "\n",
              "    .colab-df-convert {\n",
              "      background-color: #E8F0FE;\n",
              "      border: none;\n",
              "      border-radius: 50%;\n",
              "      cursor: pointer;\n",
              "      display: none;\n",
              "      fill: #1967D2;\n",
              "      height: 32px;\n",
              "      padding: 0 0 0 0;\n",
              "      width: 32px;\n",
              "    }\n",
              "\n",
              "    .colab-df-convert:hover {\n",
              "      background-color: #E2EBFA;\n",
              "      box-shadow: 0px 1px 2px rgba(60, 64, 67, 0.3), 0px 1px 3px 1px rgba(60, 64, 67, 0.15);\n",
              "      fill: #174EA6;\n",
              "    }\n",
              "\n",
              "    [theme=dark] .colab-df-convert {\n",
              "      background-color: #3B4455;\n",
              "      fill: #D2E3FC;\n",
              "    }\n",
              "\n",
              "    [theme=dark] .colab-df-convert:hover {\n",
              "      background-color: #434B5C;\n",
              "      box-shadow: 0px 1px 3px 1px rgba(0, 0, 0, 0.15);\n",
              "      filter: drop-shadow(0px 1px 2px rgba(0, 0, 0, 0.3));\n",
              "      fill: #FFFFFF;\n",
              "    }\n",
              "  </style>\n",
              "\n",
              "      <script>\n",
              "        const buttonEl =\n",
              "          document.querySelector('#df-472343ef-5221-4913-8f97-a21f9b4308b8 button.colab-df-convert');\n",
              "        buttonEl.style.display =\n",
              "          google.colab.kernel.accessAllowed ? 'block' : 'none';\n",
              "\n",
              "        async function convertToInteractive(key) {\n",
              "          const element = document.querySelector('#df-472343ef-5221-4913-8f97-a21f9b4308b8');\n",
              "          const dataTable =\n",
              "            await google.colab.kernel.invokeFunction('convertToInteractive',\n",
              "                                                     [key], {});\n",
              "          if (!dataTable) return;\n",
              "\n",
              "          const docLinkHtml = 'Like what you see? Visit the ' +\n",
              "            '<a target=\"_blank\" href=https://colab.research.google.com/notebooks/data_table.ipynb>data table notebook</a>'\n",
              "            + ' to learn more about interactive tables.';\n",
              "          element.innerHTML = '';\n",
              "          dataTable['output_type'] = 'display_data';\n",
              "          await google.colab.output.renderOutput(dataTable, element);\n",
              "          const docLink = document.createElement('div');\n",
              "          docLink.innerHTML = docLinkHtml;\n",
              "          element.appendChild(docLink);\n",
              "        }\n",
              "      </script>\n",
              "    </div>\n",
              "  </div>\n",
              "  "
            ]
          },
          "metadata": {},
          "execution_count": 4
        }
      ]
    },
    {
      "cell_type": "code",
      "source": [
        "from sklearn import preprocessing\n",
        "gender = preprocessing.LabelEncoder()\n",
        "gender.fit(df['Gender'].unique().tolist())\n",
        "df['Gender'] = gender.transform(df['Gender'])"
      ],
      "metadata": {
        "id": "dsG7CbRK4sfT"
      },
      "execution_count": 5,
      "outputs": []
    },
    {
      "cell_type": "code",
      "source": [
        "df.head()"
      ],
      "metadata": {
        "colab": {
          "base_uri": "https://localhost:8080/",
          "height": 206
        },
        "id": "YgDwY27f6YUm",
        "outputId": "f5a30185-f281-41db-b06a-e152b2177f71"
      },
      "execution_count": 6,
      "outputs": [
        {
          "output_type": "execute_result",
          "data": {
            "text/plain": [
              "   User ID  Gender  Age  AnnualSalary  Purchased\n",
              "0      385       1   35         20000          0\n",
              "1      681       1   40         43500          0\n",
              "2      353       1   49         74000          0\n",
              "3      895       1   40        107500          1\n",
              "4      661       1   25         79000          0"
            ],
            "text/html": [
              "\n",
              "  <div id=\"df-838d1cb2-caf3-4384-9186-3554b09c315d\">\n",
              "    <div class=\"colab-df-container\">\n",
              "      <div>\n",
              "<style scoped>\n",
              "    .dataframe tbody tr th:only-of-type {\n",
              "        vertical-align: middle;\n",
              "    }\n",
              "\n",
              "    .dataframe tbody tr th {\n",
              "        vertical-align: top;\n",
              "    }\n",
              "\n",
              "    .dataframe thead th {\n",
              "        text-align: right;\n",
              "    }\n",
              "</style>\n",
              "<table border=\"1\" class=\"dataframe\">\n",
              "  <thead>\n",
              "    <tr style=\"text-align: right;\">\n",
              "      <th></th>\n",
              "      <th>User ID</th>\n",
              "      <th>Gender</th>\n",
              "      <th>Age</th>\n",
              "      <th>AnnualSalary</th>\n",
              "      <th>Purchased</th>\n",
              "    </tr>\n",
              "  </thead>\n",
              "  <tbody>\n",
              "    <tr>\n",
              "      <th>0</th>\n",
              "      <td>385</td>\n",
              "      <td>1</td>\n",
              "      <td>35</td>\n",
              "      <td>20000</td>\n",
              "      <td>0</td>\n",
              "    </tr>\n",
              "    <tr>\n",
              "      <th>1</th>\n",
              "      <td>681</td>\n",
              "      <td>1</td>\n",
              "      <td>40</td>\n",
              "      <td>43500</td>\n",
              "      <td>0</td>\n",
              "    </tr>\n",
              "    <tr>\n",
              "      <th>2</th>\n",
              "      <td>353</td>\n",
              "      <td>1</td>\n",
              "      <td>49</td>\n",
              "      <td>74000</td>\n",
              "      <td>0</td>\n",
              "    </tr>\n",
              "    <tr>\n",
              "      <th>3</th>\n",
              "      <td>895</td>\n",
              "      <td>1</td>\n",
              "      <td>40</td>\n",
              "      <td>107500</td>\n",
              "      <td>1</td>\n",
              "    </tr>\n",
              "    <tr>\n",
              "      <th>4</th>\n",
              "      <td>661</td>\n",
              "      <td>1</td>\n",
              "      <td>25</td>\n",
              "      <td>79000</td>\n",
              "      <td>0</td>\n",
              "    </tr>\n",
              "  </tbody>\n",
              "</table>\n",
              "</div>\n",
              "      <button class=\"colab-df-convert\" onclick=\"convertToInteractive('df-838d1cb2-caf3-4384-9186-3554b09c315d')\"\n",
              "              title=\"Convert this dataframe to an interactive table.\"\n",
              "              style=\"display:none;\">\n",
              "        \n",
              "  <svg xmlns=\"http://www.w3.org/2000/svg\" height=\"24px\"viewBox=\"0 0 24 24\"\n",
              "       width=\"24px\">\n",
              "    <path d=\"M0 0h24v24H0V0z\" fill=\"none\"/>\n",
              "    <path d=\"M18.56 5.44l.94 2.06.94-2.06 2.06-.94-2.06-.94-.94-2.06-.94 2.06-2.06.94zm-11 1L8.5 8.5l.94-2.06 2.06-.94-2.06-.94L8.5 2.5l-.94 2.06-2.06.94zm10 10l.94 2.06.94-2.06 2.06-.94-2.06-.94-.94-2.06-.94 2.06-2.06.94z\"/><path d=\"M17.41 7.96l-1.37-1.37c-.4-.4-.92-.59-1.43-.59-.52 0-1.04.2-1.43.59L10.3 9.45l-7.72 7.72c-.78.78-.78 2.05 0 2.83L4 21.41c.39.39.9.59 1.41.59.51 0 1.02-.2 1.41-.59l7.78-7.78 2.81-2.81c.8-.78.8-2.07 0-2.86zM5.41 20L4 18.59l7.72-7.72 1.47 1.35L5.41 20z\"/>\n",
              "  </svg>\n",
              "      </button>\n",
              "      \n",
              "  <style>\n",
              "    .colab-df-container {\n",
              "      display:flex;\n",
              "      flex-wrap:wrap;\n",
              "      gap: 12px;\n",
              "    }\n",
              "\n",
              "    .colab-df-convert {\n",
              "      background-color: #E8F0FE;\n",
              "      border: none;\n",
              "      border-radius: 50%;\n",
              "      cursor: pointer;\n",
              "      display: none;\n",
              "      fill: #1967D2;\n",
              "      height: 32px;\n",
              "      padding: 0 0 0 0;\n",
              "      width: 32px;\n",
              "    }\n",
              "\n",
              "    .colab-df-convert:hover {\n",
              "      background-color: #E2EBFA;\n",
              "      box-shadow: 0px 1px 2px rgba(60, 64, 67, 0.3), 0px 1px 3px 1px rgba(60, 64, 67, 0.15);\n",
              "      fill: #174EA6;\n",
              "    }\n",
              "\n",
              "    [theme=dark] .colab-df-convert {\n",
              "      background-color: #3B4455;\n",
              "      fill: #D2E3FC;\n",
              "    }\n",
              "\n",
              "    [theme=dark] .colab-df-convert:hover {\n",
              "      background-color: #434B5C;\n",
              "      box-shadow: 0px 1px 3px 1px rgba(0, 0, 0, 0.15);\n",
              "      filter: drop-shadow(0px 1px 2px rgba(0, 0, 0, 0.3));\n",
              "      fill: #FFFFFF;\n",
              "    }\n",
              "  </style>\n",
              "\n",
              "      <script>\n",
              "        const buttonEl =\n",
              "          document.querySelector('#df-838d1cb2-caf3-4384-9186-3554b09c315d button.colab-df-convert');\n",
              "        buttonEl.style.display =\n",
              "          google.colab.kernel.accessAllowed ? 'block' : 'none';\n",
              "\n",
              "        async function convertToInteractive(key) {\n",
              "          const element = document.querySelector('#df-838d1cb2-caf3-4384-9186-3554b09c315d');\n",
              "          const dataTable =\n",
              "            await google.colab.kernel.invokeFunction('convertToInteractive',\n",
              "                                                     [key], {});\n",
              "          if (!dataTable) return;\n",
              "\n",
              "          const docLinkHtml = 'Like what you see? Visit the ' +\n",
              "            '<a target=\"_blank\" href=https://colab.research.google.com/notebooks/data_table.ipynb>data table notebook</a>'\n",
              "            + ' to learn more about interactive tables.';\n",
              "          element.innerHTML = '';\n",
              "          dataTable['output_type'] = 'display_data';\n",
              "          await google.colab.output.renderOutput(dataTable, element);\n",
              "          const docLink = document.createElement('div');\n",
              "          docLink.innerHTML = docLinkHtml;\n",
              "          element.appendChild(docLink);\n",
              "        }\n",
              "      </script>\n",
              "    </div>\n",
              "  </div>\n",
              "  "
            ]
          },
          "metadata": {},
          "execution_count": 6
        }
      ]
    },
    {
      "cell_type": "markdown",
      "source": [
        "# Separación de datos en sets de entrenamiento, validación y prueba\n",
        "\n",
        "Es una técnica utilizada para construir modelos confiables que no caigan en resultados con bias que den una falsa impresión sobre la precisión de estos. En este caso se van a utilizar un 80% de los datos para entrenar los modelos, un 10% para ir validando con pruebas y al final el 10% restante para probar el modelo."
      ],
      "metadata": {
        "id": "9kMovzsrZ2WF"
      }
    },
    {
      "cell_type": "code",
      "source": [
        "from sklearn.model_selection import train_test_split\n",
        "\n",
        "X = df.drop(['Purchased','User ID'], axis = 1) \n",
        "y = df['Purchased']   \n",
        "X_train, X_rem, y_train, y_rem = train_test_split(X, y, test_size=0.20,random_state=9)"
      ],
      "metadata": {
        "id": "rVubiqEg7Toz"
      },
      "execution_count": 7,
      "outputs": []
    },
    {
      "cell_type": "code",
      "source": [
        "X_valid, X_test, y_valid, y_test = train_test_split(X_rem,y_rem, test_size=0.5,random_state=8)"
      ],
      "metadata": {
        "id": "a2dX9GpTzqao"
      },
      "execution_count": 8,
      "outputs": []
    },
    {
      "cell_type": "markdown",
      "source": [
        "# Modelo Inicial"
      ],
      "metadata": {
        "id": "aTKUX3u58Vcn"
      }
    },
    {
      "cell_type": "markdown",
      "source": [
        "Este modelo inicial se realiza con los parámetros que tiene por default la librería, entre los que destacan que no tienen límites los árboles generados por lo que se pueden extender hasta donde sean tomando una hoja por cada variable.Esto puede contribuir a un overfitting, por lo que no debería de ser la primera opción el dejarla así. \n",
        "\n",
        "Para comprender el overfitting primero se tienen que explicar los conceptos de bias y varianza. El bias es la diferencia entre la predicción promedio que calcula el modelo y el valor real. Y la varianza es la variabilidad de la predicción del modelo contra el valor real. Esto quiere decir que un modelo con un bias alto no aprende bien los datos y por lo tanto va a presentar underfitting. Mientras que un modelo con alta varianza aprendió completamente los datos y por lo tanto presenta overfitting. El objetivo de estas pruebas para optimizar los parámetros es encontrar un equilibrio entre estos dos conceptos para que sea un modelo que haga predicciones correctas."
      ],
      "metadata": {
        "id": "rQYOQXe6bVxf"
      }
    },
    {
      "cell_type": "code",
      "source": [
        "from sklearn import metrics\n",
        "from sklearn.ensemble import RandomForestClassifier\n",
        "\n",
        "clf=RandomForestClassifier()\n",
        "\n",
        "clf.fit(X_train,y_train)\n",
        "\n",
        "y_pred=clf.predict(X_valid)\n",
        "y_pred_1 = clf.predict(X_train)\n",
        "\n",
        "print(\"Precisión Entrenamiento:\",metrics.accuracy_score(y_train, y_pred_1))\n",
        "print(\"Precisión Validación:\",metrics.accuracy_score(y_valid, y_pred))"
      ],
      "metadata": {
        "colab": {
          "base_uri": "https://localhost:8080/"
        },
        "id": "JBiMZHGW62e1",
        "outputId": "1f8a1761-9337-4ac0-92a4-c9bb9e265d1e"
      },
      "execution_count": 9,
      "outputs": [
        {
          "output_type": "stream",
          "name": "stdout",
          "text": [
            "Precisión Entrenamiento: 0.9975\n",
            "Precisión Validación: 0.89\n"
          ]
        }
      ]
    },
    {
      "cell_type": "markdown",
      "source": [
        "A pesar de ser un modelo sin optimizar, se obtuvieron muy buenos resultados en cuanto a la precisión con el set de validación. \n",
        "\n",
        "Grado de bias y varianza: el set de entrenamiento presenta una alta varianza, ya que se ajusta de gran manera y se aprendió los datos. Para el bias hay un nivel medio, ya que no aprendió más o menos para las predicciones con la validación.\n",
        "\n",
        "Nivel de ajuste del modelo: Si se compara con el valor de train se observa overfitting, ya que existe una gran diferencia entre las precisiones.\n",
        "\n"
      ],
      "metadata": {
        "id": "7irp6yFWmE0_"
      }
    },
    {
      "cell_type": "code",
      "source": [
        "from sklearn.metrics import roc_curve, auc\n",
        "false_positive_rate, true_positive_rate, thresholds = roc_curve(y_valid, y_pred)\n",
        "roc_auc = auc(false_positive_rate, true_positive_rate)\n",
        "roc_auc"
      ],
      "metadata": {
        "colab": {
          "base_uri": "https://localhost:8080/"
        },
        "id": "pZUaKF_U7SU4",
        "outputId": "7e553bb6-7998-4553-d6e6-d9c3920efe74"
      },
      "execution_count": 10,
      "outputs": [
        {
          "output_type": "execute_result",
          "data": {
            "text/plain": [
              "0.8909168081494058"
            ]
          },
          "metadata": {},
          "execution_count": 10
        }
      ]
    },
    {
      "cell_type": "markdown",
      "source": [
        "Es bueno el puntaje de roc_auc que se utiliza para clasificaciones binarias como en este caso, ya que el máximo valor es de 1. "
      ],
      "metadata": {
        "id": "L0zabbmUnKQc"
      }
    },
    {
      "cell_type": "code",
      "source": [
        "from sklearn.model_selection import cross_val_score\n",
        "\n",
        "scores = cross_val_score(clf, X, y, cv=5)\n",
        "\n",
        "print(\"%0.2f accuracy with a standard deviation of %0.2f\" % (scores.mean(), scores.std()))"
      ],
      "metadata": {
        "colab": {
          "base_uri": "https://localhost:8080/"
        },
        "id": "_lAL27g4vcZZ",
        "outputId": "c1b2143a-53f2-4b2e-a843-27db234ec736"
      },
      "execution_count": 11,
      "outputs": [
        {
          "output_type": "stream",
          "name": "stdout",
          "text": [
            "0.90 accuracy with a standard deviation of 0.02\n"
          ]
        }
      ]
    },
    {
      "cell_type": "markdown",
      "source": [
        "La validación cruzada es una alternativa a la técnica de separar en sets de entrenamiento, validación y prueba. Con la librería de sklearn se puede simular el modelo previo con todo el conjunto de datos y obtener otra métrica con la cual evaluar si el modelo es bueno sin obtener overfitting o underfitting. "
      ],
      "metadata": {
        "id": "5lEG9B_TZO1p"
      }
    },
    {
      "cell_type": "code",
      "source": [
        "from sklearn.metrics import mean_squared_error\n",
        "from matplotlib.legend_handler import HandlerLine2D\n",
        "\n",
        "train_results = []\n",
        "test_results = []\n",
        "validation_results = []\n",
        "list_nb_trees = [5, 10, 15, 30,50,75,100,150,200]\n",
        "\n",
        "for nb_trees in list_nb_trees:\n",
        "    clf=RandomForestClassifier(n_estimators=nb_trees)\n",
        "    clf.fit(X_train, y_train)\n",
        "\n",
        "    train_results.append(mean_squared_error(y_train, clf.predict(X_train)))\n",
        "    test_results.append(mean_squared_error(y_test, clf.predict(X_test)))\n",
        "    validation_results.append(mean_squared_error(y_valid, clf.predict(X_valid)))\n",
        "\n",
        "\n",
        "line1, = plt.plot(list_nb_trees, train_results, color=\"r\", label=\"Training Score\")\n",
        "line2, = plt.plot(list_nb_trees, test_results, color=\"g\", label=\"Testing Score\")\n",
        "line3, = plt.plot(list_nb_trees, validation_results, color=\"b\", label=\"Validation Score\")\n",
        "\n",
        "\n",
        "plt.legend(handler_map={line1: HandlerLine2D(numpoints=2)})\n",
        "plt.ylabel('MSE')\n",
        "plt.xlabel('n_estimators')\n",
        "plt.show()"
      ],
      "metadata": {
        "colab": {
          "base_uri": "https://localhost:8080/",
          "height": 280
        },
        "id": "QLpJNAvzl9y7",
        "outputId": "1f7eec4d-af3b-4b9b-fa36-9ab20e0cd7b2"
      },
      "execution_count": 12,
      "outputs": [
        {
          "output_type": "display_data",
          "data": {
            "text/plain": [
              "<Figure size 432x288 with 1 Axes>"
            ],
            "image/png": "[encoded data removed]"
          },
          "metadata": {
            "needs_background": "light"
          }
        }
      ]
    },
    {
      "cell_type": "markdown",
      "source": [
        "En esta gráfica se comparan los errores cuadrados medios de los diferentes sets de datos al ir aumentando el número de árboles en el bosque. Se puede observar como el set de entrenamiento tiene el valor más bajo de error, y que este se estabiliza después de un gran número de iteraciones. Los otros dos sets tienen que "
      ],
      "metadata": {
        "id": "wtNQmAB2ab-M"
      }
    },
    {
      "cell_type": "code",
      "source": [
        "from sklearn.metrics import confusion_matrix\n",
        "import matplotlib.pyplot as plt\n",
        "import seaborn as sns\n",
        "\n",
        "cf_matrix = confusion_matrix(y_valid, y_pred)\n",
        "ax = sns.heatmap(cf_matrix/np.sum(cf_matrix), annot=True, \n",
        "            fmt='.2%', cmap='Blues')\n",
        "\n",
        "ax.set_title('Matriz de Confusión\\n\\n');\n",
        "ax.set_xlabel('\\nValores Predecidos')\n",
        "ax.set_ylabel('Valores Actuales ');\n",
        "\n",
        "\n",
        "ax.xaxis.set_ticklabels(['False','True'])\n",
        "ax.yaxis.set_ticklabels(['False','True'])\n",
        "\n",
        "\n",
        "plt.show()"
      ],
      "metadata": {
        "colab": {
          "base_uri": "https://localhost:8080/",
          "height": 337
        },
        "id": "0kQeQVL57Kda",
        "outputId": "09a620f8-df9a-46f0-bea7-75b15d73b673"
      },
      "execution_count": 13,
      "outputs": [
        {
          "output_type": "display_data",
          "data": {
            "text/plain": [
              "<Figure size 432x288 with 2 Axes>"
            ],
            "image/png": "[encoded data removed]"
          },
          "metadata": {
            "needs_background": "light"
          }
        }
      ]
    },
    {
      "cell_type": "markdown",
      "source": [
        "Se puede observar con la matriz de confusión que los errores de clasificación son mínimos y que más que nada hay falsos positivos. "
      ],
      "metadata": {
        "id": "Ih0sselNnlHJ"
      }
    },
    {
      "cell_type": "markdown",
      "source": [
        "# Busqueda para encontrar los mejores parámetros "
      ],
      "metadata": {
        "id": "SUTicMyPrW9p"
      }
    },
    {
      "cell_type": "code",
      "source": [
        "n_estimators = [1, 2, 4, 8, 16, 32, 64, 100, 200]\n",
        "train_results = []\n",
        "test_results = []\n",
        "for estimator in n_estimators:\n",
        "   rf = RandomForestClassifier(n_estimators=estimator, n_jobs=-1)\n",
        "   rf.fit(X_train, y_train)\n",
        "   train_pred = rf.predict(X_train)\n",
        "   false_positive_rate, true_positive_rate, thresholds = roc_curve(y_train, train_pred)\n",
        "   roc_auc = auc(false_positive_rate, true_positive_rate)\n",
        "   train_results.append(roc_auc)\n",
        "   y_pred = rf.predict(X_valid)\n",
        "   false_positive_rate, true_positive_rate, thresholds = roc_curve(y_valid, y_pred)\n",
        "   roc_auc = auc(false_positive_rate, true_positive_rate)\n",
        "   test_results.append(roc_auc)\n",
        "from matplotlib.legend_handler import HandlerLine2D\n",
        "print(max(train_results))\n",
        "print(max(test_results))\n",
        "line1, = plt.plot(n_estimators, train_results, 'b', label='Train AUC')\n",
        "line2, = plt.plot(n_estimators, test_results, 'r', label='Validation AUC')\n",
        "plt.legend(handler_map={line1: HandlerLine2D(numpoints=2)})\n",
        "plt.ylabel('AUC score')\n",
        "plt.xlabel('n_estimators')\n",
        "plt.show()"
      ],
      "metadata": {
        "colab": {
          "base_uri": "https://localhost:8080/",
          "height": 316
        },
        "id": "fGS3BJjW8kWa",
        "outputId": "66eb6caf-3bef-44ef-a8b1-21225c6a8b48"
      },
      "execution_count": 14,
      "outputs": [
        {
          "output_type": "stream",
          "name": "stdout",
          "text": [
            "0.9968944099378882\n",
            "0.8909168081494058\n"
          ]
        },
        {
          "output_type": "display_data",
          "data": {
            "text/plain": [
              "<Figure size 432x288 with 1 Axes>"
            ],
            "image/png": "[encoded data removed]"
          },
          "metadata": {
            "needs_background": "light"
          }
        }
      ]
    },
    {
      "cell_type": "markdown",
      "source": [
        "De este gráfica se puede rescatar el número de estimadores que son necesarios, donde se puede observar que llega un momento en el que los dos sets se estabilizan que es a partir del 100."
      ],
      "metadata": {
        "id": "JZ6lVNl9rVLV"
      }
    },
    {
      "cell_type": "code",
      "source": [
        "max_depths = np.linspace(1, 32, 32, endpoint=True)\n",
        "train_results = []\n",
        "test_results = []\n",
        "for max_depth in max_depths:\n",
        "   rf = RandomForestClassifier(max_depth=max_depth, n_jobs=-1)\n",
        "   rf.fit(X_train, y_train)\n",
        "   train_pred = rf.predict(X_train)\n",
        "   false_positive_rate, true_positive_rate, thresholds = roc_curve(y_train, train_pred)\n",
        "   roc_auc = auc(false_positive_rate, true_positive_rate)\n",
        "   train_results.append(roc_auc)\n",
        "   y_pred = rf.predict(X_valid)\n",
        "   false_positive_rate, true_positive_rate, thresholds = roc_curve(y_valid, y_pred)\n",
        "   roc_auc = auc(false_positive_rate, true_positive_rate)\n",
        "   test_results.append(roc_auc)\n",
        "from matplotlib.legend_handler import HandlerLine2D\n",
        "line1, = plt.plot(max_depths, train_results, 'b', label='Train AUC')\n",
        "line2, = plt.plot(max_depths, test_results, 'r', label='Validation AUC')\n",
        "plt.legend(handler_map={line1: HandlerLine2D(numpoints=2)})\n",
        "plt.ylabel('AUC score')\n",
        "plt.xlabel('Tree depth')\n",
        "plt.show()"
      ],
      "metadata": {
        "colab": {
          "base_uri": "https://localhost:8080/",
          "height": 279
        },
        "id": "xctRAGAq8vDL",
        "outputId": "895aca33-38b0-4944-de6e-b04a0b66b4f8"
      },
      "execution_count": 15,
      "outputs": [
        {
          "output_type": "display_data",
          "data": {
            "text/plain": [
              "<Figure size 432x288 with 1 Axes>"
            ],
            "image/png": "[encoded data removed]"
          },
          "metadata": {
            "needs_background": "light"
          }
        }
      ]
    },
    {
      "cell_type": "markdown",
      "source": [
        "En esta se puede observar que hay un punto en el que está subiendo el puntaje con el set de validación y llega a ser el mismo que con el set de entrenamiento. Después de esto al seguir subiendo el nivel de profundidad se genera overfitting, ya que mejora el set de entrenamiento y varía el de validación."
      ],
      "metadata": {
        "id": "cq0lG1xcsOVf"
      }
    },
    {
      "cell_type": "code",
      "source": [
        "min_samples_splits = np.linspace(0.1, 1.0, 10, endpoint=True)\n",
        "train_results = []\n",
        "test_results = []\n",
        "for min_samples_split in min_samples_splits:\n",
        "   rf = RandomForestClassifier(min_samples_split=min_samples_split)\n",
        "   rf.fit(X_train, y_train)\n",
        "   train_pred = rf.predict(X_train)\n",
        "   false_positive_rate, true_positive_rate, thresholds = roc_curve(y_train, train_pred)\n",
        "   roc_auc = auc(false_positive_rate, true_positive_rate)\n",
        "   train_results.append(roc_auc)\n",
        "   y_pred = rf.predict(X_valid)\n",
        "   false_positive_rate, true_positive_rate, thresholds = roc_curve(y_valid, y_pred)\n",
        "   roc_auc = auc(false_positive_rate, true_positive_rate)\n",
        "   test_results.append(roc_auc)\n",
        "from matplotlib.legend_handler import HandlerLine2D\n",
        "line1, = plt.plot(min_samples_splits, train_results, 'b', label='Train AUC')\n",
        "line2, = plt.plot(min_samples_splits, test_results, 'r', label='Validation AUC')\n",
        "plt.legend(handler_map={line1: HandlerLine2D(numpoints=2)})\n",
        "plt.ylabel('AUC score')\n",
        "plt.xlabel('min samples split')\n",
        "plt.show()"
      ],
      "metadata": {
        "colab": {
          "base_uri": "https://localhost:8080/",
          "height": 279
        },
        "id": "G9fsepHc9XqD",
        "outputId": "b3d0b225-7fbb-4a6a-cabc-9d0c1b1e0ed0"
      },
      "execution_count": 16,
      "outputs": [
        {
          "output_type": "display_data",
          "data": {
            "text/plain": [
              "<Figure size 432x288 with 1 Axes>"
            ],
            "image/png": "[encoded data removed]"
          },
          "metadata": {
            "needs_background": "light"
          }
        }
      ]
    },
    {
      "cell_type": "markdown",
      "source": [
        "Los puntajes son cada iguales, por lo que este parámetro no contribuye al overfitting, y se puede observar de la importancia de que este valor sea bajo. "
      ],
      "metadata": {
        "id": "avcIGOTdtUFx"
      }
    },
    {
      "cell_type": "code",
      "source": [
        "min_samples_leafs = np.linspace(0.1, 0.5, 5, endpoint=True)\n",
        "train_results = []\n",
        "test_results = []\n",
        "for min_samples_leaf in min_samples_leafs:\n",
        "   rf = RandomForestClassifier(min_samples_leaf=min_samples_leaf)\n",
        "   rf.fit(X_train, y_train)\n",
        "   train_pred = rf.predict(X_train)\n",
        "   false_positive_rate, true_positive_rate, thresholds = roc_curve(y_train, train_pred)\n",
        "   roc_auc = auc(false_positive_rate, true_positive_rate)\n",
        "   train_results.append(roc_auc)\n",
        "   y_pred = rf.predict(X_valid)\n",
        "   false_positive_rate, true_positive_rate, thresholds = roc_curve(y_valid, y_pred)\n",
        "   roc_auc = auc(false_positive_rate, true_positive_rate)\n",
        "   test_results.append(roc_auc)\n",
        "from matplotlib.legend_handler import HandlerLine2D\n",
        "line1, = plt.plot(min_samples_leafs, train_results, 'b', label='Train AUC')\n",
        "line2, = plt.plot(min_samples_leafs, test_results, 'r', label='Validation AUC')\n",
        "plt.legend(handler_map={line1: HandlerLine2D(numpoints=2)})\n",
        "plt.ylabel('AUC score')\n",
        "plt.xlabel('min samples leaf')\n",
        "plt.show()"
      ],
      "metadata": {
        "colab": {
          "base_uri": "https://localhost:8080/",
          "height": 279
        },
        "id": "KGGX68vN97xw",
        "outputId": "3c2690cb-ba41-45f7-8b23-e2f57d890404"
      },
      "execution_count": 17,
      "outputs": [
        {
          "output_type": "display_data",
          "data": {
            "text/plain": [
              "<Figure size 432x288 with 1 Axes>"
            ],
            "image/png": "[encoded data removed]"
          },
          "metadata": {
            "needs_background": "light"
          }
        }
      ]
    },
    {
      "cell_type": "markdown",
      "source": [
        "Algo parecido al parámetro anterior, no cambian mucho entre los dos sets, y hay que cuidar que sea bajo."
      ],
      "metadata": {
        "id": "VGTGDdpnu-0w"
      }
    },
    {
      "cell_type": "code",
      "source": [
        "max_features = [1,2,3]\n",
        "train_results = []\n",
        "test_results = []\n",
        "for max_feature in max_features:\n",
        "   rf = RandomForestClassifier(max_features=max_feature)\n",
        "   rf.fit(X_train, y_train)\n",
        "   train_pred = rf.predict(X_train)\n",
        "   false_positive_rate, true_positive_rate, thresholds = roc_curve(y_train, train_pred)\n",
        "   roc_auc = auc(false_positive_rate, true_positive_rate)\n",
        "   train_results.append(roc_auc)\n",
        "   y_pred = rf.predict(X_valid)\n",
        "   false_positive_rate, true_positive_rate, thresholds = roc_curve(y_valid, y_pred)\n",
        "   roc_auc = auc(false_positive_rate, true_positive_rate)\n",
        "   test_results.append(roc_auc)\n",
        "from matplotlib.legend_handler import HandlerLine2D\n",
        "line1, = plt.plot(max_features, train_results, 'b', label='Train AUC')\n",
        "line2, = plt.plot(max_features, test_results, 'r', label='Validation AUC')\n",
        "plt.legend(handler_map={line1: HandlerLine2D(numpoints=2)})\n",
        "plt.ylabel('AUC score')\n",
        "plt.xlabel('max features')\n",
        "plt.show()"
      ],
      "metadata": {
        "colab": {
          "base_uri": "https://localhost:8080/",
          "height": 279
        },
        "id": "ol2x12hL-TwD",
        "outputId": "6cea9041-4111-45f5-eb8f-ed10c56a0f1a"
      },
      "execution_count": 18,
      "outputs": [
        {
          "output_type": "display_data",
          "data": {
            "text/plain": [
              "<Figure size 432x288 with 1 Axes>"
            ],
            "image/png": "[encoded data removed]"
          },
          "metadata": {
            "needs_background": "light"
          }
        }
      ]
    },
    {
      "cell_type": "markdown",
      "source": [
        "De aquí se puede rescatar que son necesarios todos los features posibles."
      ],
      "metadata": {
        "id": "TF2TGn7Wviau"
      }
    },
    {
      "cell_type": "code",
      "source": [
        "names = list(X_test.columns)\n",
        "feature_imp = pd.Series(clf.feature_importances_,index=names).sort_values(ascending=False)\n",
        "sns.barplot(x=feature_imp, y=feature_imp.index)\n",
        "\n",
        "plt.xlabel('Feature Importance Score')\n",
        "plt.ylabel('Features')\n",
        "plt.title(\"Visualizing Important Features\")\n",
        "plt.legend()\n",
        "plt.show()"
      ],
      "metadata": {
        "colab": {
          "base_uri": "https://localhost:8080/",
          "height": 313
        },
        "id": "90do5XiUGWOP",
        "outputId": "97300431-fb33-4039-91ed-d61b1439b28a"
      },
      "execution_count": 19,
      "outputs": [
        {
          "output_type": "stream",
          "name": "stderr",
          "text": [
            "WARNING:matplotlib.legend:No handles with labels found to put in legend.\n"
          ]
        },
        {
          "output_type": "display_data",
          "data": {
            "text/plain": [
              "<Figure size 432x288 with 1 Axes>"
            ],
            "image/png": "[encoded data removed]"
          },
          "metadata": {
            "needs_background": "light"
          }
        }
      ]
    },
    {
      "cell_type": "markdown",
      "source": [
        "En el análisis de la importancia de cada variable para el modelo se puede observar que la variable de género no aporta al modelo."
      ],
      "metadata": {
        "id": "Q44WwYaEizIe"
      }
    },
    {
      "cell_type": "markdown",
      "source": [
        "# Modelos conforme a las pruebas realizadas"
      ],
      "metadata": {
        "id": "NxUuD4dXjKNC"
      }
    },
    {
      "cell_type": "code",
      "source": [
        "X_train_1 = X_train.drop(['Gender'],axis=1)\n",
        "X_valid_1 = X_valid.drop(['Gender'],axis=1)\n",
        "X_test_1 = X_test.drop(['Gender'],axis=1)"
      ],
      "metadata": {
        "id": "tVycuPHhGeuZ"
      },
      "execution_count": 20,
      "outputs": []
    },
    {
      "cell_type": "markdown",
      "source": [
        "## Modelo 1"
      ],
      "metadata": {
        "id": "yPLRhCcsWuDS"
      }
    },
    {
      "cell_type": "code",
      "source": [
        "clf_1=RandomForestClassifier(n_estimators = 100,max_depth=6,random_state=0)\n",
        "\n",
        "clf_1.fit(X_train_1,y_train)\n",
        "\n",
        "y_pred=clf_1.predict(X_valid_1)\n",
        "y_pred_1 = clf_1.predict(X_train_1)\n",
        "y_pred_3 = clf_1.predict(X_test_1)\n",
        "\n",
        "\n",
        "print(\"Precisión Entrenamiento:\",metrics.accuracy_score(y_train, y_pred_1))\n",
        "print(\"Precisión Validación:\",metrics.accuracy_score(y_valid, y_pred))\n",
        "print(\"Precisión Testeo:\",metrics.accuracy_score(y_test, y_pred_3))"
      ],
      "metadata": {
        "colab": {
          "base_uri": "https://localhost:8080/"
        },
        "id": "g_G6n-qLjV8-",
        "outputId": "edbc5ee0-3c34-48e2-b282-42187785c4b6"
      },
      "execution_count": 21,
      "outputs": [
        {
          "output_type": "stream",
          "name": "stdout",
          "text": [
            "Precisión Entrenamiento: 0.94125\n",
            "Precisión Validación: 0.91\n",
            "Precisión Testeo: 0.93\n"
          ]
        }
      ]
    },
    {
      "cell_type": "code",
      "source": [
        "false_positive_rate, true_positive_rate, thresholds = roc_curve(y_valid, y_pred)\n",
        "roc_auc = auc(false_positive_rate, true_positive_rate)\n",
        "roc_auc"
      ],
      "metadata": {
        "colab": {
          "base_uri": "https://localhost:8080/"
        },
        "id": "PGRRn2yPu7B9",
        "outputId": "21843f2f-3a70-4d99-ab38-8e322f0b8f92"
      },
      "execution_count": 22,
      "outputs": [
        {
          "output_type": "execute_result",
          "data": {
            "text/plain": [
              "0.9121392190152801"
            ]
          },
          "metadata": {},
          "execution_count": 22
        }
      ]
    },
    {
      "cell_type": "markdown",
      "source": [
        "El modelo sin la variable previamente mencionada y tomando en cuenta los dos parámetros más significativos en las pruebas arrojó muy buenos resultados. Se observa que hay menor overfitting que en el modelo original, y que existe una una buena combinación entre el nivel de varianza y el de bias, los cuales se podrían decir que están en un nivel bajo."
      ],
      "metadata": {
        "id": "Dad-adi-j2ud"
      }
    },
    {
      "cell_type": "markdown",
      "source": [
        "## Modelo 2"
      ],
      "metadata": {
        "id": "hn6G-6K8Wv54"
      }
    },
    {
      "cell_type": "code",
      "source": [
        "from sklearn import metrics\n",
        "from sklearn.ensemble import RandomForestClassifier\n",
        "\n",
        "clf=RandomForestClassifier(max_depth=6,n_estimators=150, min_samples_leaf=0.1,random_state=0,min_samples_split=0.1)\n",
        "\n",
        "clf.fit(X_train,y_train)\n",
        "\n",
        "y_pred=clf.predict(X_valid)\n",
        "y_pred_1 = clf.predict(X_train)\n",
        "y_pred_2 = clf.predict(X_test)\n",
        "\n",
        "\n",
        "print(\"Precisión Entrenamiento:\",metrics.accuracy_score(y_train, y_pred_1))\n",
        "print(\"Precisión Validación:\",metrics.accuracy_score(y_valid, y_pred))\n",
        "print(\"Precisión Testeo:\",metrics.accuracy_score(y_test, y_pred_2))"
      ],
      "metadata": {
        "colab": {
          "base_uri": "https://localhost:8080/"
        },
        "id": "WlIe_CCo-vB9",
        "outputId": "2b776ad8-9d9f-4f11-878b-e6a5fbbadbd1"
      },
      "execution_count": 23,
      "outputs": [
        {
          "output_type": "stream",
          "name": "stdout",
          "text": [
            "Precisión Entrenamiento: 0.89375\n",
            "Precisión Validación: 0.89\n",
            "Precisión Testeo: 0.87\n"
          ]
        }
      ]
    },
    {
      "cell_type": "code",
      "source": [
        "false_positive_rate, true_positive_rate, thresholds = roc_curve(y_valid, y_pred)\n",
        "roc_auc = auc(false_positive_rate, true_positive_rate)\n",
        "roc_auc"
      ],
      "metadata": {
        "colab": {
          "base_uri": "https://localhost:8080/"
        },
        "id": "SvbWjq4avHvd",
        "outputId": "8d682db9-6a02-4ee9-b0f6-7f6ef74e46ce"
      },
      "execution_count": 24,
      "outputs": [
        {
          "output_type": "execute_result",
          "data": {
            "text/plain": [
              "0.8909168081494058"
            ]
          },
          "metadata": {},
          "execution_count": 24
        }
      ]
    },
    {
      "cell_type": "markdown",
      "source": [
        "Al poner los parámetros que más aumentaran la precisión con el set de validación se benefició unicamente este y bajaron las precisiones con los otros dos sets, por lo que no es el modelo correcto."
      ],
      "metadata": {
        "id": "d5Q9K3ZY2Ec2"
      }
    },
    {
      "cell_type": "markdown",
      "source": [
        "## Modelo 3"
      ],
      "metadata": {
        "id": "J3hkJWcnWxVU"
      }
    },
    {
      "cell_type": "code",
      "source": [
        "clf=RandomForestClassifier(max_depth=6,random_state=0)\n",
        "\n",
        "clf.fit(X_train,y_train)\n",
        "\n",
        "y_pred=clf.predict(X_valid)\n",
        "y_pred_1 = clf.predict(X_train)\n",
        "y_pred_2 = clf.predict(X_test)\n",
        "\n",
        "\n",
        "print(\"Precisión Entrenamiento:\",metrics.accuracy_score(y_train, y_pred_1))\n",
        "print(\"Precisión Validación:\",metrics.accuracy_score(y_valid, y_pred))\n",
        "print(\"Precisión Testeo:\",metrics.accuracy_score(y_test, y_pred_2))"
      ],
      "metadata": {
        "colab": {
          "base_uri": "https://localhost:8080/"
        },
        "id": "U_ZgG0rlwSHu",
        "outputId": "dda71e79-20e7-497e-f8ca-f93ec8797961"
      },
      "execution_count": 25,
      "outputs": [
        {
          "output_type": "stream",
          "name": "stdout",
          "text": [
            "Precisión Entrenamiento: 0.9325\n",
            "Precisión Validación: 0.91\n",
            "Precisión Testeo: 0.89\n"
          ]
        }
      ]
    },
    {
      "cell_type": "code",
      "source": [
        "false_positive_rate, true_positive_rate, thresholds = roc_curve(y_valid, y_pred)\n",
        "roc_auc = auc(false_positive_rate, true_positive_rate)\n",
        "roc_auc"
      ],
      "metadata": {
        "colab": {
          "base_uri": "https://localhost:8080/"
        },
        "id": "f7i-nG3PvKNA",
        "outputId": "16c589a3-0e5f-45c4-f148-fef0be791a74"
      },
      "execution_count": 26,
      "outputs": [
        {
          "output_type": "execute_result",
          "data": {
            "text/plain": [
              "0.9121392190152801"
            ]
          },
          "metadata": {},
          "execution_count": 26
        }
      ]
    },
    {
      "cell_type": "markdown",
      "source": [
        "Un modelo bastante simple que tiene buen equilibrio entre la varianza y bias, por lo cual no tiene overfitting o underfitting. Este modelo se realizó debido a que es de los parámetros que mayor precisión proporcionaban en las pruebas."
      ],
      "metadata": {
        "id": "tzRGu63fmuuP"
      }
    },
    {
      "cell_type": "markdown",
      "source": [
        "# Métricas de Desempeño"
      ],
      "metadata": {
        "id": "D2fJizJSW5rA"
      }
    },
    {
      "cell_type": "markdown",
      "source": [
        "A partir de los resultados de los modelos, se puede observar que el mejor fue el primero, el cual tuvo la mejor precisión en todos los sets."
      ],
      "metadata": {
        "id": "CeifyQ8fdAPG"
      }
    },
    {
      "cell_type": "code",
      "source": [
        "train_results = []\n",
        "test_results = []\n",
        "validation_results = []\n",
        "list_nb_trees = [5, 10, 15, 30,50,75,100,150]\n",
        "\n",
        "for nb_trees in list_nb_trees:\n",
        "    clf=RandomForestClassifier(max_depth=6,random_state=0, n_estimators=nb_trees)\n",
        "    clf.fit(X_train, y_train)\n",
        "\n",
        "    train_results.append(mean_squared_error(y_train, clf.predict(X_train)))\n",
        "    test_results.append(mean_squared_error(y_test, clf.predict(X_test)))\n",
        "    validation_results.append(mean_squared_error(y_valid, clf.predict(X_valid)))\n",
        "\n",
        "\n",
        "line1, = plt.plot(list_nb_trees, train_results, color=\"r\", label=\"Training Score\")\n",
        "line2, = plt.plot(list_nb_trees, test_results, color=\"g\", label=\"Testing Score\")\n",
        "line3, = plt.plot(list_nb_trees, validation_results, color=\"b\", label=\"Validation Score\")\n",
        "\n",
        "\n",
        "plt.legend(handler_map={line1: HandlerLine2D(numpoints=2)})\n",
        "plt.ylabel('MSE')\n",
        "plt.xlabel('n_estimators')\n",
        "plt.show()"
      ],
      "metadata": {
        "colab": {
          "base_uri": "https://localhost:8080/",
          "height": 280
        },
        "id": "p56gkVGSXfps",
        "outputId": "0c7bd202-6630-450d-97cc-99aa3f0b4e9b"
      },
      "execution_count": 27,
      "outputs": [
        {
          "output_type": "display_data",
          "data": {
            "text/plain": [
              "<Figure size 432x288 with 1 Axes>"
            ],
            "image/png": "[encoded data removed]"
          },
          "metadata": {
            "needs_background": "light"
          }
        }
      ]
    },
    {
      "cell_type": "code",
      "source": [
        "from sklearn.model_selection import cross_val_score\n",
        "\n",
        "scores = cross_val_score(clf_1, X, y, cv=5)\n",
        "\n",
        "print(\"%0.2f accuracy with a standard deviation of %0.2f\" % (scores.mean(), scores.std()))"
      ],
      "metadata": {
        "colab": {
          "base_uri": "https://localhost:8080/"
        },
        "id": "QaucBAjHiU_u",
        "outputId": "17f97263-2595-448c-d458-b32340ad0d34"
      },
      "execution_count": 28,
      "outputs": [
        {
          "output_type": "stream",
          "name": "stdout",
          "text": [
            "0.91 accuracy with a standard deviation of 0.01\n"
          ]
        }
      ]
    },
    {
      "cell_type": "markdown",
      "source": [
        "Con la cross validation se pudo obtener una precisión bastante alta que refleja el equilibrio entre las precisiones obtenidas con los sets diferentes. "
      ],
      "metadata": {
        "id": "X8yRZXxanbGe"
      }
    },
    {
      "cell_type": "code",
      "source": [
        "from sklearn.metrics import confusion_matrix\n",
        "import matplotlib.pyplot as plt\n",
        "import seaborn as sns\n",
        "\n",
        "cf_matrix = confusion_matrix(y_test, y_pred_3)\n",
        "ax = sns.heatmap(cf_matrix/np.sum(cf_matrix), annot=True, \n",
        "            fmt='.2%', cmap='Blues')\n",
        "\n",
        "ax.set_title('Seaborn Confusion Matrix with labels\\n\\n');\n",
        "ax.set_xlabel('\\nPredicted Values')\n",
        "ax.set_ylabel('Actual Values ');\n",
        "\n",
        "\n",
        "ax.xaxis.set_ticklabels(['False','True'])\n",
        "ax.yaxis.set_ticklabels(['False','True'])\n",
        "\n",
        "\n",
        "plt.show()"
      ],
      "metadata": {
        "colab": {
          "base_uri": "https://localhost:8080/",
          "height": 337
        },
        "id": "YMDXpGfqCuZu",
        "outputId": "da7e849c-c9e5-4a68-aa25-2f0f1e061bce"
      },
      "execution_count": 29,
      "outputs": [
        {
          "output_type": "display_data",
          "data": {
            "text/plain": [
              "<Figure size 432x288 with 2 Axes>"
            ],
            "image/png": "[encoded data removed]"
          },
          "metadata": {
            "needs_background": "light"
          }
        }
      ]
    },
    {
      "cell_type": "markdown",
      "source": [
        "# Comparación de modelos \n",
        "\n",
        "\n",
        "\n",
        "*   Precisión \n",
        "\n",
        "Modelo Original: \n",
        "\n",
        "Entrenamiento: 0.9975\n",
        "Validación: 0.87\n",
        "\n",
        "Modelo 1: \n",
        "\n",
        "Entrenamiento: 0.94125\n",
        "Validación: 0.91\n",
        "Testeo: 0.93\n",
        "\n",
        "Modelo 2:\n",
        "\n",
        "Entrenamiento: 0.89375\n",
        "Validación: 0.89\n",
        "Testeo: 0.87\n",
        "\n",
        "Modelo 3:\n",
        "\n",
        "Entrenamiento: 0.9325\n",
        "Validación: 0.91\n",
        "Testeo: 0.89\n",
        "\n",
        "*   Roc-AUC\n",
        "\n",
        "Modelo Original: 0.86969\n",
        "\n",
        "Modelo 1:\n",
        "0.9121\n",
        "\n",
        "Modelo 2:\n",
        "0.8909\n",
        "\n",
        "Modelo 3:\n",
        "0.9121\n",
        "\n",
        "\n",
        "\n",
        "\n",
        "*   Validación Cruzada\n",
        "\n",
        "Modelo original:\n",
        "0.90\n",
        "\n",
        "Modelo 1:\n",
        "0.91\n",
        "\n",
        "Por medio de estas métricas de evaluación se puede observar cómo mejoró el modelo para realizar mejores predicciones. "
      ],
      "metadata": {
        "id": "jqKX0Jxyr1jj"
      }
    },
    {
      "cell_type": "markdown",
      "source": [
        "Conclusión del modelo de clasificación: Al principio presentaba unos cuantos errores de overfitting, entonces la idea era optimizar los parámetros para encontrar un modelo que tuviera un balance con todos los sets de entrenamiento. En el modelo elegido se puede considerar que se logró el balance entre el bias y la varianza, por lo cual se obtuvo un modelo con la capacidad de predecir muy buena."
      ],
      "metadata": {
        "id": "qSuI2pRkcaa4"
      }
    },
    {
      "cell_type": "markdown",
      "source": [
        "# Regresion"
      ],
      "metadata": {
        "id": "k-flP2BRPA90"
      }
    },
    {
      "cell_type": "code",
      "source": [
        "df_1 = pd.read_csv('/content/drive/MyDrive/Inteligencia Artificial Avanzada/insurance.csv')"
      ],
      "metadata": {
        "id": "oLX251ebJYsT"
      },
      "execution_count": 30,
      "outputs": []
    },
    {
      "cell_type": "code",
      "source": [
        "df_1.head()"
      ],
      "metadata": {
        "colab": {
          "base_uri": "https://localhost:8080/",
          "height": 206
        },
        "id": "Z5cvcxnfPFEn",
        "outputId": "621c5b0c-febd-499f-8eee-11cab06b8ee8"
      },
      "execution_count": 31,
      "outputs": [
        {
          "output_type": "execute_result",
          "data": {
            "text/plain": [
              "   age     sex     bmi  children smoker     region      charges\n",
              "0   19  female  27.900         0    yes  southwest  16884.92400\n",
              "1   18    male  33.770         1     no  southeast   1725.55230\n",
              "2   28    male  33.000         3     no  southeast   4449.46200\n",
              "3   33    male  22.705         0     no  northwest  21984.47061\n",
              "4   32    male  28.880         0     no  northwest   3866.85520"
            ],
            "text/html": [
              "\n",
              "  <div id=\"df-b0f947cc-7c1a-4285-acf3-ddd069abd730\">\n",
              "    <div class=\"colab-df-container\">\n",
              "      <div>\n",
              "<style scoped>\n",
              "    .dataframe tbody tr th:only-of-type {\n",
              "        vertical-align: middle;\n",
              "    }\n",
              "\n",
              "    .dataframe tbody tr th {\n",
              "        vertical-align: top;\n",
              "    }\n",
              "\n",
              "    .dataframe thead th {\n",
              "        text-align: right;\n",
              "    }\n",
              "</style>\n",
              "<table border=\"1\" class=\"dataframe\">\n",
              "  <thead>\n",
              "    <tr style=\"text-align: right;\">\n",
              "      <th></th>\n",
              "      <th>age</th>\n",
              "      <th>sex</th>\n",
              "      <th>bmi</th>\n",
              "      <th>children</th>\n",
              "      <th>smoker</th>\n",
              "      <th>region</th>\n",
              "      <th>charges</th>\n",
              "    </tr>\n",
              "  </thead>\n",
              "  <tbody>\n",
              "    <tr>\n",
              "      <th>0</th>\n",
              "      <td>19</td>\n",
              "      <td>female</td>\n",
              "      <td>27.900</td>\n",
              "      <td>0</td>\n",
              "      <td>yes</td>\n",
              "      <td>southwest</td>\n",
              "      <td>16884.92400</td>\n",
              "    </tr>\n",
              "    <tr>\n",
              "      <th>1</th>\n",
              "      <td>18</td>\n",
              "      <td>male</td>\n",
              "      <td>33.770</td>\n",
              "      <td>1</td>\n",
              "      <td>no</td>\n",
              "      <td>southeast</td>\n",
              "      <td>1725.55230</td>\n",
              "    </tr>\n",
              "    <tr>\n",
              "      <th>2</th>\n",
              "      <td>28</td>\n",
              "      <td>male</td>\n",
              "      <td>33.000</td>\n",
              "      <td>3</td>\n",
              "      <td>no</td>\n",
              "      <td>southeast</td>\n",
              "      <td>4449.46200</td>\n",
              "    </tr>\n",
              "    <tr>\n",
              "      <th>3</th>\n",
              "      <td>33</td>\n",
              "      <td>male</td>\n",
              "      <td>22.705</td>\n",
              "      <td>0</td>\n",
              "      <td>no</td>\n",
              "      <td>northwest</td>\n",
              "      <td>21984.47061</td>\n",
              "    </tr>\n",
              "    <tr>\n",
              "      <th>4</th>\n",
              "      <td>32</td>\n",
              "      <td>male</td>\n",
              "      <td>28.880</td>\n",
              "      <td>0</td>\n",
              "      <td>no</td>\n",
              "      <td>northwest</td>\n",
              "      <td>3866.85520</td>\n",
              "    </tr>\n",
              "  </tbody>\n",
              "</table>\n",
              "</div>\n",
              "      <button class=\"colab-df-convert\" onclick=\"convertToInteractive('df-b0f947cc-7c1a-4285-acf3-ddd069abd730')\"\n",
              "              title=\"Convert this dataframe to an interactive table.\"\n",
              "              style=\"display:none;\">\n",
              "        \n",
              "  <svg xmlns=\"http://www.w3.org/2000/svg\" height=\"24px\"viewBox=\"0 0 24 24\"\n",
              "       width=\"24px\">\n",
              "    <path d=\"M0 0h24v24H0V0z\" fill=\"none\"/>\n",
              "    <path d=\"M18.56 5.44l.94 2.06.94-2.06 2.06-.94-2.06-.94-.94-2.06-.94 2.06-2.06.94zm-11 1L8.5 8.5l.94-2.06 2.06-.94-2.06-.94L8.5 2.5l-.94 2.06-2.06.94zm10 10l.94 2.06.94-2.06 2.06-.94-2.06-.94-.94-2.06-.94 2.06-2.06.94z\"/><path d=\"M17.41 7.96l-1.37-1.37c-.4-.4-.92-.59-1.43-.59-.52 0-1.04.2-1.43.59L10.3 9.45l-7.72 7.72c-.78.78-.78 2.05 0 2.83L4 21.41c.39.39.9.59 1.41.59.51 0 1.02-.2 1.41-.59l7.78-7.78 2.81-2.81c.8-.78.8-2.07 0-2.86zM5.41 20L4 18.59l7.72-7.72 1.47 1.35L5.41 20z\"/>\n",
              "  </svg>\n",
              "      </button>\n",
              "      \n",
              "  <style>\n",
              "    .colab-df-container {\n",
              "      display:flex;\n",
              "      flex-wrap:wrap;\n",
              "      gap: 12px;\n",
              "    }\n",
              "\n",
              "    .colab-df-convert {\n",
              "      background-color: #E8F0FE;\n",
              "      border: none;\n",
              "      border-radius: 50%;\n",
              "      cursor: pointer;\n",
              "      display: none;\n",
              "      fill: #1967D2;\n",
              "      height: 32px;\n",
              "      padding: 0 0 0 0;\n",
              "      width: 32px;\n",
              "    }\n",
              "\n",
              "    .colab-df-convert:hover {\n",
              "      background-color: #E2EBFA;\n",
              "      box-shadow: 0px 1px 2px rgba(60, 64, 67, 0.3), 0px 1px 3px 1px rgba(60, 64, 67, 0.15);\n",
              "      fill: #174EA6;\n",
              "    }\n",
              "\n",
              "    [theme=dark] .colab-df-convert {\n",
              "      background-color: #3B4455;\n",
              "      fill: #D2E3FC;\n",
              "    }\n",
              "\n",
              "    [theme=dark] .colab-df-convert:hover {\n",
              "      background-color: #434B5C;\n",
              "      box-shadow: 0px 1px 3px 1px rgba(0, 0, 0, 0.15);\n",
              "      filter: drop-shadow(0px 1px 2px rgba(0, 0, 0, 0.3));\n",
              "      fill: #FFFFFF;\n",
              "    }\n",
              "  </style>\n",
              "\n",
              "      <script>\n",
              "        const buttonEl =\n",
              "          document.querySelector('#df-b0f947cc-7c1a-4285-acf3-ddd069abd730 button.colab-df-convert');\n",
              "        buttonEl.style.display =\n",
              "          google.colab.kernel.accessAllowed ? 'block' : 'none';\n",
              "\n",
              "        async function convertToInteractive(key) {\n",
              "          const element = document.querySelector('#df-b0f947cc-7c1a-4285-acf3-ddd069abd730');\n",
              "          const dataTable =\n",
              "            await google.colab.kernel.invokeFunction('convertToInteractive',\n",
              "                                                     [key], {});\n",
              "          if (!dataTable) return;\n",
              "\n",
              "          const docLinkHtml = 'Like what you see? Visit the ' +\n",
              "            '<a target=\"_blank\" href=https://colab.research.google.com/notebooks/data_table.ipynb>data table notebook</a>'\n",
              "            + ' to learn more about interactive tables.';\n",
              "          element.innerHTML = '';\n",
              "          dataTable['output_type'] = 'display_data';\n",
              "          await google.colab.output.renderOutput(dataTable, element);\n",
              "          const docLink = document.createElement('div');\n",
              "          docLink.innerHTML = docLinkHtml;\n",
              "          element.appendChild(docLink);\n",
              "        }\n",
              "      </script>\n",
              "    </div>\n",
              "  </div>\n",
              "  "
            ]
          },
          "metadata": {},
          "execution_count": 31
        }
      ]
    },
    {
      "cell_type": "markdown",
      "source": [
        "# Variables Categóricas a númericas"
      ],
      "metadata": {
        "id": "cmsAJ5UmoLFB"
      }
    },
    {
      "cell_type": "code",
      "source": [
        "sex = preprocessing.LabelEncoder()\n",
        "sex.fit(df_1['sex'].unique().tolist())\n",
        "df_1['sex'] = sex.transform(df_1['sex'])"
      ],
      "metadata": {
        "id": "mvp7k13DPQU_"
      },
      "execution_count": 32,
      "outputs": []
    },
    {
      "cell_type": "code",
      "source": [
        "smoker = preprocessing.LabelEncoder()\n",
        "smoker.fit(df_1['smoker'].unique().tolist())\n",
        "df_1['smoker'] = smoker.transform(df_1['smoker'])"
      ],
      "metadata": {
        "id": "uz0m47XiPhv4"
      },
      "execution_count": 33,
      "outputs": []
    },
    {
      "cell_type": "code",
      "source": [
        "region = preprocessing.LabelEncoder()\n",
        "region.fit(df_1['region'].unique().tolist())\n",
        "df_1['region'] = region.transform(df_1['region'])"
      ],
      "metadata": {
        "id": "F_zw3cRYPwMW"
      },
      "execution_count": 34,
      "outputs": []
    },
    {
      "cell_type": "code",
      "source": [
        "df_1.head()"
      ],
      "metadata": {
        "colab": {
          "base_uri": "https://localhost:8080/",
          "height": 206
        },
        "id": "VqLTIyUKP4zd",
        "outputId": "942fdcaa-24a2-4dde-b0a1-8703e2a107aa"
      },
      "execution_count": 35,
      "outputs": [
        {
          "output_type": "execute_result",
          "data": {
            "text/plain": [
              "   age  sex     bmi  children  smoker  region      charges\n",
              "0   19    0  27.900         0       1       3  16884.92400\n",
              "1   18    1  33.770         1       0       2   1725.55230\n",
              "2   28    1  33.000         3       0       2   4449.46200\n",
              "3   33    1  22.705         0       0       1  21984.47061\n",
              "4   32    1  28.880         0       0       1   3866.85520"
            ],
            "text/html": [
              "\n",
              "  <div id=\"df-6cdaac97-de05-4494-9760-c552742566f6\">\n",
              "    <div class=\"colab-df-container\">\n",
              "      <div>\n",
              "<style scoped>\n",
              "    .dataframe tbody tr th:only-of-type {\n",
              "        vertical-align: middle;\n",
              "    }\n",
              "\n",
              "    .dataframe tbody tr th {\n",
              "        vertical-align: top;\n",
              "    }\n",
              "\n",
              "    .dataframe thead th {\n",
              "        text-align: right;\n",
              "    }\n",
              "</style>\n",
              "<table border=\"1\" class=\"dataframe\">\n",
              "  <thead>\n",
              "    <tr style=\"text-align: right;\">\n",
              "      <th></th>\n",
              "      <th>age</th>\n",
              "      <th>sex</th>\n",
              "      <th>bmi</th>\n",
              "      <th>children</th>\n",
              "      <th>smoker</th>\n",
              "      <th>region</th>\n",
              "      <th>charges</th>\n",
              "    </tr>\n",
              "  </thead>\n",
              "  <tbody>\n",
              "    <tr>\n",
              "      <th>0</th>\n",
              "      <td>19</td>\n",
              "      <td>0</td>\n",
              "      <td>27.900</td>\n",
              "      <td>0</td>\n",
              "      <td>1</td>\n",
              "      <td>3</td>\n",
              "      <td>16884.92400</td>\n",
              "    </tr>\n",
              "    <tr>\n",
              "      <th>1</th>\n",
              "      <td>18</td>\n",
              "      <td>1</td>\n",
              "      <td>33.770</td>\n",
              "      <td>1</td>\n",
              "      <td>0</td>\n",
              "      <td>2</td>\n",
              "      <td>1725.55230</td>\n",
              "    </tr>\n",
              "    <tr>\n",
              "      <th>2</th>\n",
              "      <td>28</td>\n",
              "      <td>1</td>\n",
              "      <td>33.000</td>\n",
              "      <td>3</td>\n",
              "      <td>0</td>\n",
              "      <td>2</td>\n",
              "      <td>4449.46200</td>\n",
              "    </tr>\n",
              "    <tr>\n",
              "      <th>3</th>\n",
              "      <td>33</td>\n",
              "      <td>1</td>\n",
              "      <td>22.705</td>\n",
              "      <td>0</td>\n",
              "      <td>0</td>\n",
              "      <td>1</td>\n",
              "      <td>21984.47061</td>\n",
              "    </tr>\n",
              "    <tr>\n",
              "      <th>4</th>\n",
              "      <td>32</td>\n",
              "      <td>1</td>\n",
              "      <td>28.880</td>\n",
              "      <td>0</td>\n",
              "      <td>0</td>\n",
              "      <td>1</td>\n",
              "      <td>3866.85520</td>\n",
              "    </tr>\n",
              "  </tbody>\n",
              "</table>\n",
              "</div>\n",
              "      <button class=\"colab-df-convert\" onclick=\"convertToInteractive('df-6cdaac97-de05-4494-9760-c552742566f6')\"\n",
              "              title=\"Convert this dataframe to an interactive table.\"\n",
              "              style=\"display:none;\">\n",
              "        \n",
              "  <svg xmlns=\"http://www.w3.org/2000/svg\" height=\"24px\"viewBox=\"0 0 24 24\"\n",
              "       width=\"24px\">\n",
              "    <path d=\"M0 0h24v24H0V0z\" fill=\"none\"/>\n",
              "    <path d=\"M18.56 5.44l.94 2.06.94-2.06 2.06-.94-2.06-.94-.94-2.06-.94 2.06-2.06.94zm-11 1L8.5 8.5l.94-2.06 2.06-.94-2.06-.94L8.5 2.5l-.94 2.06-2.06.94zm10 10l.94 2.06.94-2.06 2.06-.94-2.06-.94-.94-2.06-.94 2.06-2.06.94z\"/><path d=\"M17.41 7.96l-1.37-1.37c-.4-.4-.92-.59-1.43-.59-.52 0-1.04.2-1.43.59L10.3 9.45l-7.72 7.72c-.78.78-.78 2.05 0 2.83L4 21.41c.39.39.9.59 1.41.59.51 0 1.02-.2 1.41-.59l7.78-7.78 2.81-2.81c.8-.78.8-2.07 0-2.86zM5.41 20L4 18.59l7.72-7.72 1.47 1.35L5.41 20z\"/>\n",
              "  </svg>\n",
              "      </button>\n",
              "      \n",
              "  <style>\n",
              "    .colab-df-container {\n",
              "      display:flex;\n",
              "      flex-wrap:wrap;\n",
              "      gap: 12px;\n",
              "    }\n",
              "\n",
              "    .colab-df-convert {\n",
              "      background-color: #E8F0FE;\n",
              "      border: none;\n",
              "      border-radius: 50%;\n",
              "      cursor: pointer;\n",
              "      display: none;\n",
              "      fill: #1967D2;\n",
              "      height: 32px;\n",
              "      padding: 0 0 0 0;\n",
              "      width: 32px;\n",
              "    }\n",
              "\n",
              "    .colab-df-convert:hover {\n",
              "      background-color: #E2EBFA;\n",
              "      box-shadow: 0px 1px 2px rgba(60, 64, 67, 0.3), 0px 1px 3px 1px rgba(60, 64, 67, 0.15);\n",
              "      fill: #174EA6;\n",
              "    }\n",
              "\n",
              "    [theme=dark] .colab-df-convert {\n",
              "      background-color: #3B4455;\n",
              "      fill: #D2E3FC;\n",
              "    }\n",
              "\n",
              "    [theme=dark] .colab-df-convert:hover {\n",
              "      background-color: #434B5C;\n",
              "      box-shadow: 0px 1px 3px 1px rgba(0, 0, 0, 0.15);\n",
              "      filter: drop-shadow(0px 1px 2px rgba(0, 0, 0, 0.3));\n",
              "      fill: #FFFFFF;\n",
              "    }\n",
              "  </style>\n",
              "\n",
              "      <script>\n",
              "        const buttonEl =\n",
              "          document.querySelector('#df-6cdaac97-de05-4494-9760-c552742566f6 button.colab-df-convert');\n",
              "        buttonEl.style.display =\n",
              "          google.colab.kernel.accessAllowed ? 'block' : 'none';\n",
              "\n",
              "        async function convertToInteractive(key) {\n",
              "          const element = document.querySelector('#df-6cdaac97-de05-4494-9760-c552742566f6');\n",
              "          const dataTable =\n",
              "            await google.colab.kernel.invokeFunction('convertToInteractive',\n",
              "                                                     [key], {});\n",
              "          if (!dataTable) return;\n",
              "\n",
              "          const docLinkHtml = 'Like what you see? Visit the ' +\n",
              "            '<a target=\"_blank\" href=https://colab.research.google.com/notebooks/data_table.ipynb>data table notebook</a>'\n",
              "            + ' to learn more about interactive tables.';\n",
              "          element.innerHTML = '';\n",
              "          dataTable['output_type'] = 'display_data';\n",
              "          await google.colab.output.renderOutput(dataTable, element);\n",
              "          const docLink = document.createElement('div');\n",
              "          docLink.innerHTML = docLinkHtml;\n",
              "          element.appendChild(docLink);\n",
              "        }\n",
              "      </script>\n",
              "    </div>\n",
              "  </div>\n",
              "  "
            ]
          },
          "metadata": {},
          "execution_count": 35
        }
      ]
    },
    {
      "cell_type": "markdown",
      "source": [
        "# Separación de datos"
      ],
      "metadata": {
        "id": "RXp4hUqKoQPs"
      }
    },
    {
      "cell_type": "code",
      "source": [
        "X = df_1.drop(['charges'], axis = 1) \n",
        "y = df_1['charges']   \n",
        "\n",
        "X_train, X_rem, y_train, y_rem = train_test_split(X, y, test_size=0.20,random_state=5)"
      ],
      "metadata": {
        "id": "R1FbOD4tP6lz"
      },
      "execution_count": 36,
      "outputs": []
    },
    {
      "cell_type": "code",
      "source": [
        "X_valid, X_test, y_valid, y_test = train_test_split(X_rem,y_rem, test_size=0.5,random_state=5)"
      ],
      "metadata": {
        "id": "4WCL4MXtQ4Bv"
      },
      "execution_count": 37,
      "outputs": []
    },
    {
      "cell_type": "markdown",
      "source": [
        "# Modelo simple\n",
        "\n",
        "Al igual que con clasificación se utilizan los parámetros por default que contiene la librería de bosques aleatorios, pero ahora de tipo regresión."
      ],
      "metadata": {
        "id": "dWzcRVntocGu"
      }
    },
    {
      "cell_type": "code",
      "source": [
        "from sklearn.ensemble import RandomForestRegressor\n",
        "\n",
        "forest=RandomForestRegressor()\n",
        "\n",
        "\n",
        "forest.fit(X_train,y_train)\n",
        "\n",
        "y_prediction = forest.predict(X_valid)\n",
        "y_prediction_2 = forest.predict(X_train)"
      ],
      "metadata": {
        "id": "rAU9lXaoQH2B"
      },
      "execution_count": 38,
      "outputs": []
    },
    {
      "cell_type": "code",
      "source": [
        "from sklearn.metrics import r2_score\n",
        "from sklearn.metrics import mean_squared_error\n",
        "\n",
        "score = r2_score(y_valid,y_prediction)\n",
        "score_2 = r2_score(y_train,y_prediction_2)\n",
        "print('r2 score del set de entrenamiento ',score_2)\n",
        "print('r2 score del set de validacion ',score)\n",
        "\n",
        "print('mean_sqrd_error es==',mean_squared_error(y_valid,y_prediction))\n",
        "print('root_mean_squared error of es==',np.sqrt(mean_squared_error(y_valid,y_prediction)))"
      ],
      "metadata": {
        "colab": {
          "base_uri": "https://localhost:8080/"
        },
        "id": "2yWFogbuQbm5",
        "outputId": "642400b4-7abc-4b9a-e125-63b87a65fe76"
      },
      "execution_count": 39,
      "outputs": [
        {
          "output_type": "stream",
          "name": "stdout",
          "text": [
            "r2 score del set de entrenamiento  0.9764064656973306\n",
            "r2 score del set de validacion  0.8072701861686596\n",
            "mean_sqrd_error es== 22593008.28704765\n",
            "root_mean_squared error of es== 4753.210313782428\n"
          ]
        }
      ]
    },
    {
      "cell_type": "markdown",
      "source": [
        "Se obtiene un r2 bastante bueno para el set de entrenamiento, pero con el de validación se puede interpretar que hay overfitting debido a la gran diferencia entre puntajes. Podemos decir que este modelo tiene una alta varianza con un bias bajo."
      ],
      "metadata": {
        "id": "c--SJA3rpCEo"
      }
    },
    {
      "cell_type": "code",
      "source": [
        "scores = cross_val_score(forest, X, y, cv=5)\n",
        "\n",
        "print(\"%0.2f accuracy with a standard deviation of %0.2f\" % (scores.mean(), scores.std()))"
      ],
      "metadata": {
        "colab": {
          "base_uri": "https://localhost:8080/"
        },
        "id": "efJ0os8ttEcw",
        "outputId": "539b3eab-e46a-45c8-effb-9d00d65afc89"
      },
      "execution_count": 40,
      "outputs": [
        {
          "output_type": "stream",
          "name": "stdout",
          "text": [
            "0.83 accuracy with a standard deviation of 0.03\n"
          ]
        }
      ]
    },
    {
      "cell_type": "markdown",
      "source": [
        "Con el cross validation se puede dar una idea de la realidad del modelo, siendo que es una precisión buena más no excelente como ocurría con el set de entrenamiento."
      ],
      "metadata": {
        "id": "MGdyM6Mxp1-F"
      }
    },
    {
      "cell_type": "markdown",
      "source": [
        "# Gráfica de error "
      ],
      "metadata": {
        "id": "BQOakawNqDtR"
      }
    },
    {
      "cell_type": "code",
      "source": [
        "g=plt.plot(y_valid - y_prediction,marker='o',linestyle='')"
      ],
      "metadata": {
        "colab": {
          "base_uri": "https://localhost:8080/",
          "height": 265
        },
        "id": "euaVnSRGQd_X",
        "outputId": "c27c3c02-c29e-48fc-f073-6ca5d88547a8"
      },
      "execution_count": 41,
      "outputs": [
        {
          "output_type": "display_data",
          "data": {
            "text/plain": [
              "<Figure size 432x288 with 1 Axes>"
            ],
            "image/png": "[encoded data removed]"
          },
          "metadata": {
            "needs_background": "light"
          }
        }
      ]
    },
    {
      "cell_type": "markdown",
      "source": [
        "# Mejoras para el modelo\n",
        "\n",
        "Con la función de randomized search que ofrece sklearn se puede intentar encontrar los mejores parámetros para el modelo. Se le proporciona una variación de los valores que podría tomar cada parámetro y la función se encarga de probar con todas las combinaciones posibles para asi regresar el modelo con los parámetros que mejor se ajusten."
      ],
      "metadata": {
        "id": "PN78SJvJqRKO"
      }
    },
    {
      "cell_type": "code",
      "source": [
        "from sklearn.model_selection import RandomizedSearchCV\n",
        "\n",
        "n_estimators = [int(x) for x in np.linspace(start = 20, stop = 500, num = 10)]\n",
        "\n",
        "max_features = ['auto', 'sqrt']\n",
        "\n",
        "max_depth = [int(x) for x in np.linspace(1, 300, num = 10)]\n",
        "max_depth.append(None)\n",
        "\n",
        "min_samples_split = [2, 5, 10]\n",
        "\n",
        "min_samples_leaf = [1, 2, 4,6,8]\n",
        "\n",
        "bootstrap = [True, False]\n",
        "\n",
        "random_grid = {'n_estimators': n_estimators,\n",
        "               'max_features': max_features,\n",
        "               'max_depth': max_depth,\n",
        "               'min_samples_split': min_samples_split,\n",
        "               'min_samples_leaf': min_samples_leaf,\n",
        "               'bootstrap': bootstrap}\n",
        "print(random_grid)\n"
      ],
      "metadata": {
        "id": "SpxmzUt8Qny-",
        "colab": {
          "base_uri": "https://localhost:8080/"
        },
        "outputId": "82a1a1ef-1463-402c-fb67-d5add0046de1"
      },
      "execution_count": 42,
      "outputs": [
        {
          "output_type": "stream",
          "name": "stdout",
          "text": [
            "{'n_estimators': [20, 73, 126, 180, 233, 286, 340, 393, 446, 500], 'max_features': ['auto', 'sqrt'], 'max_depth': [1, 34, 67, 100, 133, 167, 200, 233, 266, 300, None], 'min_samples_split': [2, 5, 10], 'min_samples_leaf': [1, 2, 4, 6, 8], 'bootstrap': [True, False]}\n"
          ]
        }
      ]
    },
    {
      "cell_type": "code",
      "source": [
        "rf = RandomForestRegressor()\n",
        "\n",
        "rf_random = RandomizedSearchCV(estimator = rf, param_distributions = random_grid, n_iter = 100, cv = 3, verbose=2, random_state=5, n_jobs = -1)\n",
        "\n",
        "rf_random.fit(X_train, y_train)"
      ],
      "metadata": {
        "colab": {
          "base_uri": "https://localhost:8080/"
        },
        "id": "It-UtzDjRryl",
        "outputId": "b6adfe7f-35dc-434e-9a63-c7039c480ad4"
      },
      "execution_count": 43,
      "outputs": [
        {
          "output_type": "stream",
          "name": "stdout",
          "text": [
            "Fitting 3 folds for each of 100 candidates, totalling 300 fits\n"
          ]
        },
        {
          "output_type": "execute_result",
          "data": {
            "text/plain": [
              "RandomizedSearchCV(cv=3, estimator=RandomForestRegressor(), n_iter=100,\n",
              "                   n_jobs=-1,\n",
              "                   param_distributions={'bootstrap': [True, False],\n",
              "                                        'max_depth': [1, 34, 67, 100, 133, 167,\n",
              "                                                      200, 233, 266, 300,\n",
              "                                                      None],\n",
              "                                        'max_features': ['auto', 'sqrt'],\n",
              "                                        'min_samples_leaf': [1, 2, 4, 6, 8],\n",
              "                                        'min_samples_split': [2, 5, 10],\n",
              "                                        'n_estimators': [20, 73, 126, 180, 233,\n",
              "                                                         286, 340, 393, 446,\n",
              "                                                         500]},\n",
              "                   random_state=5, verbose=2)"
            ]
          },
          "metadata": {},
          "execution_count": 43
        }
      ]
    },
    {
      "cell_type": "code",
      "source": [
        "print ('Random grid: ', random_grid, '\\n')\n",
        "\n",
        "print ('Best Parameters: ', rf_random.best_params_, ' \\n')"
      ],
      "metadata": {
        "colab": {
          "base_uri": "https://localhost:8080/"
        },
        "id": "kzhihJhoRwyB",
        "outputId": "1ec08380-0a37-4f23-84f8-0fc89bac1f28"
      },
      "execution_count": 44,
      "outputs": [
        {
          "output_type": "stream",
          "name": "stdout",
          "text": [
            "Random grid:  {'n_estimators': [20, 73, 126, 180, 233, 286, 340, 393, 446, 500], 'max_features': ['auto', 'sqrt'], 'max_depth': [1, 34, 67, 100, 133, 167, 200, 233, 266, 300, None], 'min_samples_split': [2, 5, 10], 'min_samples_leaf': [1, 2, 4, 6, 8], 'bootstrap': [True, False]} \n",
            "\n",
            "Best Parameters:  {'n_estimators': 286, 'min_samples_split': 5, 'min_samples_leaf': 8, 'max_features': 'auto', 'max_depth': 100, 'bootstrap': True}  \n",
            "\n"
          ]
        }
      ]
    },
    {
      "cell_type": "markdown",
      "source": [
        "# Modelo Optimizado"
      ],
      "metadata": {
        "id": "vsIc1iyzq_th"
      }
    },
    {
      "cell_type": "code",
      "source": [
        "from sklearn.ensemble import RandomForestRegressor\n",
        "\n",
        "forest=RandomForestRegressor(n_estimators= 20, min_samples_split= 2, min_samples_leaf= 8, bootstrap= True,max_features= 'auto',max_depth=266)\n",
        "\n",
        "\n",
        "forest.fit(X_train,y_train)\n",
        "\n",
        "y_prediction_2 = forest.predict(X_train)\n",
        "y_prediction = forest.predict(X_valid)"
      ],
      "metadata": {
        "id": "4424TgWsR8jO"
      },
      "execution_count": 45,
      "outputs": []
    },
    {
      "cell_type": "code",
      "source": [
        "from sklearn.metrics import r2_score\n",
        "from sklearn.metrics import mean_squared_error\n",
        "\n",
        "score=r2_score(y_valid,y_prediction)\n",
        "score_2 = r2_score(y_train,y_prediction_2)\n",
        "\n",
        "print('r2 score del set de entrenamiento es ',score_2)\n",
        "print('r2 score del set de validacion es ',score)\n",
        "\n",
        "print('mean_sqrd_error del set validación es==',mean_squared_error(y_valid,y_prediction))\n",
        "print('root_mean_squared error of es==',np.sqrt(mean_squared_error(y_valid,y_prediction)))"
      ],
      "metadata": {
        "colab": {
          "base_uri": "https://localhost:8080/"
        },
        "id": "E8EeqDhiSVFA",
        "outputId": "a358617a-cff4-4dac-96e1-7c2eb95ee1eb"
      },
      "execution_count": 46,
      "outputs": [
        {
          "output_type": "stream",
          "name": "stdout",
          "text": [
            "r2 score del set de entrenamiento es  0.8863940380298194\n",
            "r2 score del set de validacion es  0.8659840753544538\n",
            "mean_sqrd_error del set validación es== 15710194.680947782\n",
            "root_mean_squared error of es== 3963.6087951446193\n"
          ]
        }
      ]
    },
    {
      "cell_type": "code",
      "source": [
        "y_prediction = forest.predict(X_test)\n",
        "\n",
        "\n",
        "score=r2_score(y_test,y_prediction)\n",
        "print('r2 score del set de prueba es',score)\n",
        "print('mean_sqrd_error es==',mean_squared_error(y_test,y_prediction))\n",
        "print('root_mean_squared error es==',np.sqrt(mean_squared_error(y_test,y_prediction)))"
      ],
      "metadata": {
        "id": "SEFKqsflSm11",
        "colab": {
          "base_uri": "https://localhost:8080/"
        },
        "outputId": "7fbc5811-38b8-4201-ed36-660cc7e76339"
      },
      "execution_count": 47,
      "outputs": [
        {
          "output_type": "stream",
          "name": "stdout",
          "text": [
            "r2 score del set de prueba es 0.9115681744394798\n",
            "mean_sqrd_error es== 16464944.151002586\n",
            "root_mean_squared error es== 4057.701831209704\n"
          ]
        }
      ]
    },
    {
      "cell_type": "markdown",
      "source": [
        "Se utilizan los parámetros actualizados y se obtiene una mejor en la precisión de todos los sets, pero por alguna razón el set de prueba es el que mejores resultados obtiene "
      ],
      "metadata": {
        "id": "pEuQI8O-rDPf"
      }
    },
    {
      "cell_type": "code",
      "source": [
        "scores = cross_val_score(forest, X, y, cv=5)\n",
        "\n",
        "print(\"%0.2f accuracy with a standard deviation of %0.2f\" % (scores.mean(), scores.std()))"
      ],
      "metadata": {
        "colab": {
          "base_uri": "https://localhost:8080/"
        },
        "id": "wMghYLMIjC6U",
        "outputId": "9feeaa6f-da13-42f9-a0ad-a4916cc71609"
      },
      "execution_count": 48,
      "outputs": [
        {
          "output_type": "stream",
          "name": "stdout",
          "text": [
            "0.85 accuracy with a standard deviation of 0.03\n"
          ]
        }
      ]
    },
    {
      "cell_type": "code",
      "source": [
        "g=plt.plot(y_valid - y_prediction,marker='o',linestyle='')"
      ],
      "metadata": {
        "colab": {
          "base_uri": "https://localhost:8080/",
          "height": 265
        },
        "id": "Xb2xV29NSkos",
        "outputId": "d070b672-e015-4d1e-da5a-a0c904b88fda"
      },
      "execution_count": 49,
      "outputs": [
        {
          "output_type": "display_data",
          "data": {
            "text/plain": [
              "<Figure size 432x288 with 1 Axes>"
            ],
            "image/png": "[encoded data removed]"
          },
          "metadata": {
            "needs_background": "light"
          }
        }
      ]
    },
    {
      "cell_type": "code",
      "source": [
        "g=plt.plot(y_test - y_prediction,marker='o',linestyle='')"
      ],
      "metadata": {
        "colab": {
          "base_uri": "https://localhost:8080/",
          "height": 265
        },
        "id": "UnrNh1SeXaxx",
        "outputId": "8b1dc137-3738-4f50-e721-40dbc958e7d6"
      },
      "execution_count": 50,
      "outputs": [
        {
          "output_type": "display_data",
          "data": {
            "text/plain": [
              "<Figure size 432x288 with 1 Axes>"
            ],
            "image/png": "[encoded data removed]"
          },
          "metadata": {
            "needs_background": "light"
          }
        }
      ]
    },
    {
      "cell_type": "markdown",
      "source": [
        "# Comparación de Modelos\n",
        "\n",
        "\n",
        "\n",
        "*   Puntaje R2\n",
        "\n",
        "Modelo Original\n",
        "\n",
        "Entrenamiento  0.976406\n",
        "Validacion  0.80727\n",
        "\n",
        "Modelo Optimizado\n",
        "\n",
        "Entrenamiento es  0.8863\n",
        "Validacion es  0.8659\n",
        "Testeo 0.911568\n",
        "\n",
        "\n",
        "*   Validación Cruzada\n",
        "\n",
        "Modelo Original \n",
        "\n",
        "0.83\n",
        "\n",
        "Modelo Optimizado\n",
        "\n",
        "0.85\n",
        "\n",
        "\n",
        "Se puede observar cómo el modelo mejoró gracias a la optimización de hiperparámetros. "
      ],
      "metadata": {
        "id": "9uXVE3q1xZES"
      }
    },
    {
      "cell_type": "markdown",
      "source": [
        "Conclusión modelo de regresión:\n",
        "El mismo objetivo que con el modelo de clasificación, y se utilizó un acercamiento diferente al utilizar la librería de grid search que de manera automática buscó los mejores parámetros. Se obtuvieron resultados que mejoraron el modelo inicial, y se redujo la varianza para el set de entrenamiento. Es un buen modelo para las predicciones, pero el de validación no es el mejor. "
      ],
      "metadata": {
        "id": "pnZgwwD0eAuJ"
      }
    },
    {
      "cell_type": "code",
      "source": [],
      "metadata": {
        "id": "tDkA8Ss_XxZs"
      },
      "execution_count": 50,
      "outputs": []
    }
  ]
}